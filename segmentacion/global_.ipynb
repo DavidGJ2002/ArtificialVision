{
 "cells": [
  {
   "cell_type": "code",
   "execution_count": 1,
   "id": "4a2c78f9-bb7c-4f2a-8699-0a8d0be61209",
   "metadata": {},
   "outputs": [],
   "source": [
    "import numpy as np\n",
    "\n",
    "def global_thresholding(image, threshold=None):\n",
    "    if threshold is None:\n",
    "        threshold = np.mean(image)\n",
    "    binary_image = np.where(image < threshold, 0, 255)\n",
    "    return binary_image"
   ]
  }
 ],
 "metadata": {
  "kernelspec": {
   "display_name": "Python 3 (ipykernel)",
   "language": "python",
   "name": "python3"
  },
  "language_info": {
   "codemirror_mode": {
    "name": "ipython",
    "version": 3
   },
   "file_extension": ".py",
   "mimetype": "text/x-python",
   "name": "python",
   "nbconvert_exporter": "python",
   "pygments_lexer": "ipython3",
   "version": "3.11.5"
  }
 },
 "nbformat": 4,
 "nbformat_minor": 5
}
