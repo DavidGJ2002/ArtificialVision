{
 "cells": [
  {
   "cell_type": "code",
   "execution_count": 2,
   "id": "34b58b17-739e-4924-ac7f-95afacb4484a",
   "metadata": {},
   "outputs": [],
   "source": [
    "import numpy as np\n",
    "\n",
    "def otsu_thresholding(image):\n",
    "    hist, _ = np.histogram(image, 256, [0,256])\n",
    "    total = image.size\n",
    "    sumT = np.dot(np.arange(256), hist)\n",
    "    sumB = 0\n",
    "    wB = 0\n",
    "    wF = 0\n",
    "    varMax = 0.0\n",
    "    threshold = 0\n",
    "\n",
    "    for i in range(256):\n",
    "        wB += hist[i]\n",
    "        if wB == 0:\n",
    "            continue\n",
    "        wF = total - wB\n",
    "        if wF == 0:\n",
    "            break\n",
    "\n",
    "        sumB += i * hist[i]\n",
    "        mB = sumB / wB\n",
    "        mF = (sumT - sumB) / wF\n",
    "\n",
    "        varBetween = wB * wF * (mB - mF) * (mB - mF)\n",
    "\n",
    "        if varBetween > varMax:\n",
    "            varMax = varBetween\n",
    "            threshold = i\n",
    "\n",
    "    binary_image = np.where(image < threshold, 0, 255)\n",
    "    return binary_image"
   ]
  }
 ],
 "metadata": {
  "kernelspec": {
   "display_name": "Python 3 (ipykernel)",
   "language": "python",
   "name": "python3"
  },
  "language_info": {
   "codemirror_mode": {
    "name": "ipython",
    "version": 3
   },
   "file_extension": ".py",
   "mimetype": "text/x-python",
   "name": "python",
   "nbconvert_exporter": "python",
   "pygments_lexer": "ipython3",
   "version": "3.11.5"
  }
 },
 "nbformat": 4,
 "nbformat_minor": 5
}
