{
 "cells": [
  {
   "cell_type": "code",
   "execution_count": 2,
   "id": "3611daae-743d-484c-be9e-9c6d49be7bcd",
   "metadata": {},
   "outputs": [],
   "source": [
    "import numpy as np\n",
    "\n",
    "def bernsen_thresholding(image, window_size=15, contrast_threshold=30):\n",
    "    height, width = image.shape\n",
    "    half_window = window_size // 2\n",
    "    output = np.zeros_like(image)\n",
    "\n",
    "    for y in range(height):\n",
    "        for x in range(width):\n",
    "            y1 = max(y - half_window, 0)\n",
    "            y2 = min(y + half_window, height - 1)\n",
    "            x1 = max(x - half_window, 0)\n",
    "            x2 = min(x + half_window, width - 1)\n",
    "\n",
    "            local_region = image[y1:y2+1, x1:x2+1]\n",
    "            local_mean = np.mean(local_region)\n",
    "            local_contrast = np.max(local_region) - np.min(local_region)\n",
    "\n",
    "            if local_contrast < contrast_threshold:\n",
    "                if local_mean <= 128:\n",
    "                    output[y, x] = 0\n",
    "                else:\n",
    "                    output[y, x] = 255\n",
    "            else:\n",
    "                if image[y, x] > local_mean:\n",
    "                    output[y, x] = 255\n",
    "                else:\n",
    "                    output[y, x] = 0\n",
    "\n",
    "    return output"
   ]
  }
 ],
 "metadata": {
  "kernelspec": {
   "display_name": "Python 3 (ipykernel)",
   "language": "python",
   "name": "python3"
  },
  "language_info": {
   "codemirror_mode": {
    "name": "ipython",
    "version": 3
   },
   "file_extension": ".py",
   "mimetype": "text/x-python",
   "name": "python",
   "nbconvert_exporter": "python",
   "pygments_lexer": "ipython3",
   "version": "3.11.5"
  }
 },
 "nbformat": 4,
 "nbformat_minor": 5
}
