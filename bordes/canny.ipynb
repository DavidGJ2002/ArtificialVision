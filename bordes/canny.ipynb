{
 "cells": [
  {
   "cell_type": "code",
   "execution_count": null,
   "metadata": {},
   "outputs": [],
   "source": [
    "import cv2\n",
    "import numpy as np\n",
    "\n",
    "def filtro_canny(imagen_path, umbral_bajo=30, umbral_alto=100):\n",
    "    # Cargar la imagen\n",
    "    imagen = cv2.imread(imagen_path, cv2.IMREAD_GRAYSCALE)\n",
    "\n",
    "    # Aplicar el filtro Gaussiano para reducir el ruido\n",
    "    imagen_suavizada = cv2.GaussianBlur(imagen, (5, 5), 1.4)\n",
    "\n",
    "    # Calcular los gradientes utilizando los kernels de Sobel\n",
    "    Ix = cv2.Sobel(imagen_suavizada, cv2.CV_64F, 1, 0, ksize=3)\n",
    "    Iy = cv2.Sobel(imagen_suavizada, cv2.CV_64F, 0, 1, ksize=3)\n",
    "\n",
    "    # Calcular la magnitud y el ángulo del gradiente\n",
    "    magnitud_gradiente = np.sqrt(Ix**2 + Iy**2)\n",
    "    angulo_gradiente = np.arctan2(Iy, Ix)\n",
    "\n",
    "    # Supresión no máxima\n",
    "    imagen_suprimida = np.zeros_like(magnitud_gradiente)\n",
    "    angulo_gradiente = angulo_gradiente * 180.0 / np.pi\n",
    "    angulo_gradiente[angulo_gradiente < 0] += 180\n",
    "\n",
    "    for i in range(1, imagen.shape[0] - 1):\n",
    "        for j in range(1, imagen.shape[1] - 1):\n",
    "            angulo = angulo_gradiente[i, j]\n",
    "            if (0 <= angulo < 22.5) or (157.5 <= angulo <= 180):\n",
    "                vecinos = [magnitud_gradiente[i, j - 1], magnitud_gradiente[i, j + 1]]\n",
    "            elif 22.5 <= angulo < 67.5:\n",
    "                vecinos = [magnitud_gradiente[i - 1, j - 1], magnitud_gradiente[i + 1, j + 1]]\n",
    "            elif 67.5 <= angulo < 112.5:\n",
    "                vecinos = [magnitud_gradiente[i - 1, j], magnitud_gradiente[i + 1, j]]\n",
    "            else:\n",
    "                vecinos = [magnitud_gradiente[i - 1, j + 1], magnitud_gradiente[i + 1, j - 1]]\n",
    "\n",
    "            if magnitud_gradiente[i, j] >= max(vecinos):\n",
    "                imagen_suprimida[i, j] = magnitud_gradiente[i, j]\n",
    "\n",
    "    # Doble umbral\n",
    "    imagen_umbral = np.zeros_like(imagen_suprimida)\n",
    "    imagen_umbral[(imagen_suprimida >= umbral_bajo) & (imagen_suprimida <= umbral_alto)] = 255\n",
    "    \n",
    "    return imagen_umbral\n",
    "\n"
   ]
  }
 ],
 "metadata": {
  "language_info": {
   "name": "python"
  },
  "orig_nbformat": 4
 },
 "nbformat": 4,
 "nbformat_minor": 2
}
