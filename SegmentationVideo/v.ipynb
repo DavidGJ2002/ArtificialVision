{
 "cells": [
  {
   "cell_type": "code",
   "execution_count": 3,
   "id": "a6f8015a-966a-4b85-992a-60d3fa023eac",
   "metadata": {},
   "outputs": [],
   "source": [
    "import cv2\n",
    "import os\n",
    "import numpy as np\n",
    "import matplotlib.pyplot as plt\n",
    "\n",
    "# Abre el video\n",
    "video_path = 'nofi069.mp4'\n",
    "cap = cv2.VideoCapture(video_path)\n",
    "\n",
    "# Crea un directorio para almacenar las imágenes procesadas\n",
    "output_dir = 'frames_output'\n",
    "os.makedirs(output_dir, exist_ok=True)\n",
    "\n",
    "# Guarda la imagen de referencia (primer frame del video)\n",
    "ret, reference_frame = cap.read()\n",
    "if ret:\n",
    "    cv2.imwrite(f\"{output_dir}/reference_frame.jpg\", reference_frame)\n",
    "\n",
    "# Función para procesar y comparar cada frame con la imagen de referencia\n",
    "def process_and_compare_frames(reference, current):\n",
    "    # Realizar sustracción de imágenes\n",
    "    difference = cv2.absdiff(reference, current)\n",
    "\n",
    "    # Aplicar umbralizado (thresholding) para identificar áreas de cambio\n",
    "    _, thresholded = cv2.threshold(difference, 30, 255, cv2.THRESH_BINARY)\n",
    "\n",
    "    # Filtrar ruido con un filtro Gaussiano\n",
    "    filtered = cv2.GaussianBlur(thresholded, (5, 5), 0)\n",
    "\n",
    "    return filtered\n",
    "\n",
    "# Procesa todos los frames y guarda los cambios significativos\n",
    "frames = 0\n",
    "while True:\n",
    "    ret, current_frame = cap.read()\n",
    "    if not ret:\n",
    "        break"
   ]
  }
 ],
 "metadata": {
  "kernelspec": {
   "display_name": "Python 3 (ipykernel)",
   "language": "python",
   "name": "python3"
  },
  "language_info": {
   "codemirror_mode": {
    "name": "ipython",
    "version": 3
   },
   "file_extension": ".py",
   "mimetype": "text/x-python",
   "name": "python",
   "nbconvert_exporter": "python",
   "pygments_lexer": "ipython3",
   "version": "3.11.5"
  }
 },
 "nbformat": 4,
 "nbformat_minor": 5
}
