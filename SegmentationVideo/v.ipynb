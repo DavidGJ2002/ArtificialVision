{
 "cells": [
  {
   "cell_type": "code",
   "execution_count": 3,
   "id": "a6f8015a-966a-4b85-992a-60d3fa023eac",
   "metadata": {},
   "outputs": [],
   "source": [
    "import cv2\n",
    "import os\n",
    "import numpy as np\n",
    "import matplotlib.pyplot as plt\n",
    "\n",
    "# Abre el video\n",
    "video_path = 'nofi069.mp4'\n",
    "cap = cv2.VideoCapture(video_path)\n",
    "\n",
    "# Crea un directorio para almacenar las imágenes procesadas\n",
    "output_dir = 'frames_output'\n",
    "os.makedirs(output_dir, exist_ok=True)\n",
    "\n",
    "# Guarda la imagen de referencia (primer frame del video)\n",
    "ret, reference_frame = cap.read()\n",
    "if ret:\n",
    "    cv2.imwrite(f\"{output_dir}/reference_frame.jpg\", reference_frame)"
   ]
  }
 ],
 "metadata": {
  "kernelspec": {
   "display_name": "Python 3 (ipykernel)",
   "language": "python",
   "name": "python3"
  },
  "language_info": {
   "codemirror_mode": {
    "name": "ipython",
    "version": 3
   },
   "file_extension": ".py",
   "mimetype": "text/x-python",
   "name": "python",
   "nbconvert_exporter": "python",
   "pygments_lexer": "ipython3",
   "version": "3.11.5"
  }
 },
 "nbformat": 4,
 "nbformat_minor": 5
}
