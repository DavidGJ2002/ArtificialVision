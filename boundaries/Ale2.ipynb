{
 "cells": [
  {
   "cell_type": "code",
   "execution_count": null,
   "metadata": {},
   "outputs": [],
   "source": [
    "def normalize_chain_code(chain_code):\n",
    "    # Compute the first difference\n",
    "    first_difference = [(chain_code[i] - chain_code[i - 1]) % 8 for i in range(len(chain_code))]\n",
    "    \n",
    "    # Find the rotation-invariant chain code with the minimum magnitude\n",
    "    min_chain = min([first_difference[i:] + first_difference[:i] for i in range(len(first_difference))])\n",
    "    \n",
    "    return min_chain\n",
    "\n",
    "# Normalize the Freeman chain codes\n",
    "normalized_chain_code1_4 = normalize_chain_code(chain_code1_4)\n",
    "normalized_chain_code2_4 = normalize_chain_code(chain_code2_4)\n",
    "normalized_chain_code1_8 = normalize_chain_code(chain_code1_8)\n",
    "normalized_chain_code2_8 = normalize_chain_code(chain_code2_8)\n",
    "\n",
    "normalized_chain_code1_4, normalized_chain_code2_4, normalized_chain_code1_8, normalized_chain_code2_8\n"
   ]
  }
 ],
 "metadata": {
  "language_info": {
   "name": "python"
  }
 },
 "nbformat": 4,
 "nbformat_minor": 2
}
