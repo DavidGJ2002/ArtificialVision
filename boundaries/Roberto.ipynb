{
 "cells": [
  {
   "cell_type": "code",
   "execution_count": null,
   "metadata": {},
   "outputs": [],
   "source": [
    "def freeman_chain_code(boundary, connectivity=8):\n",
    "    # Directions for connectivity-4 and connectivity-8\n",
    "    directions_4 = [(0, 1), (1, 0), (0, -1), (-1, 0)]\n",
    "    directions_8 = [(0, 1), (1, 1), (1, 0), (1, -1), (0, -1), (-1, -1), (-1, 0), (-1, 1)]\n",
    "    \n",
    "    directions = directions_8 if connectivity == 8 else directions_4\n",
    "    chain_code = []\n",
    "    \n",
    "    for i in range(len(boundary) - 1):\n",
    "        current_point = boundary[i]\n",
    "        next_point = boundary[i+1]\n",
    "        direction = (next_point[0] - current_point[0], next_point[1] - current_point[1])\n",
    "        chain_code.append(directions.index(direction))\n",
    "    \n",
    "    return chain_code\n",
    "\n",
    "# Apply Freeman's chain code algorithm to the boundaries\n",
    "chain_code1_4 = freeman_chain_code(boundary1, connectivity=4)\n",
    "chain_code2_4 = freeman_chain_code(boundary2, connectivity=4)\n",
    "chain_code1_8 = freeman_chain_code(boundary1, connectivity=8)\n",
    "chain_code2_8 = freeman_chain_code(boundary2, connectivity=8)\n",
    "\n",
    "chain_code1_4, chain_code2_4, chain_code1_8, chain_code2_8"
   ]
  },
  {
   "cell_type": "code",
   "execution_count": null,
   "metadata": {},
   "outputs": [],
   "source": [
    "# Segment the original image using Moore's boundary mask\n",
    "segmented_img1 = cv2.bitwise_and(img1, img1, mask=boundary_img1)\n",
    "segmented_img2 = cv2.bitwise_and(img2, img2, mask=boundary_img2)\n",
    "\n",
    "# Display the segmented images\n",
    "fig, ax = plt.subplots(1, 2, figsize=(12, 6))\n",
    "ax[0].imshow(segmented_img1, cmap='gray')\n",
    "ax[0].set_title('Imagen 1 Segmentada con Máscara de Moore')\n",
    "ax[0].axis('off')\n",
    "ax[1].imshow(segmented_img2, cmap='gray')\n",
    "ax[1].set_title('Imagen 2 Segmentada con Máscara de Moore')\n",
    "ax[1].axis('off')\n",
    "plt.show()"
   ]
  }
 ],
 "metadata": {
  "kernelspec": {
   "display_name": "base",
   "language": "python",
   "name": "python3"
  },
  "language_info": {
   "name": "python",
   "version": "3.11.4"
  }
 },
 "nbformat": 4,
 "nbformat_minor": 2
}
