{
 "cells": [
  {
   "cell_type": "code",
   "execution_count": 1,
   "id": "85888816-b886-4592-be5f-0ad8620a3427",
   "metadata": {},
   "outputs": [],
   "source": [
    "import numpy as np\n",
    "from scipy.spatial.distance import cdist\n",
    "\n",
    "class MinimumDistanceClassifier:\n",
    "    def __init__(self):\n",
    "        self.centroids = None\n",
    "\n",
    "    def fit(self, X, y):\n",
    "        classes = np.unique(y)\n",
    "        self.centroids = np.array([X[y == cls].mean(axis=0) for cls in classes])\n",
    "\n",
    "    def predict(self, X):\n",
    "        distances = cdist(X, self.centroids, 'euclidean')\n",
    "        return np.argmin(distances, axis=1)"
   ]
  },
  {
   "cell_type": "code",
   "execution_count": 2,
   "id": "eb9321eb-1a47-4a3c-b157-5ac8f0b2583f",
   "metadata": {},
   "outputs": [],
   "source": [
    "from sklearn.model_selection import train_test_split\n",
    "from sklearn.datasets import load_iris\n",
    "\n",
    "iris = load_iris()\n",
    "X, y = iris.data, iris.target\n",
    "\n",
    "X_train, X_test, y_train, y_test = train_test_split(X, y, test_size=0.2, random_state=42)"
   ]
  },
  {
   "cell_type": "code",
   "execution_count": 3,
   "id": "1a367423-8ddf-4439-b554-d268d86f95bb",
   "metadata": {},
   "outputs": [],
   "source": [
    "def pca_manual(X, num_components):\n",
    "    X_centered = X - np.mean(X, axis=0)\n",
    "    covariance_matrix = np.cov(X_centered, rowvar=False)\n",
    "    eigenvalues, eigenvectors = np.linalg.eigh(covariance_matrix)\n",
    "    idx = np.argsort(eigenvalues)[::-1]\n",
    "    eigenvectors = eigenvectors[:, idx]\n",
    "    return np.dot(X_centered, eigenvectors[:, :num_components])"
   ]
  }
 ],
 "metadata": {
  "kernelspec": {
   "display_name": "Python 3 (ipykernel)",
   "language": "python",
   "name": "python3"
  },
  "language_info": {
   "codemirror_mode": {
    "name": "ipython",
    "version": 3
   },
   "file_extension": ".py",
   "mimetype": "text/x-python",
   "name": "python",
   "nbconvert_exporter": "python",
   "pygments_lexer": "ipython3",
   "version": "3.11.5"
  }
 },
 "nbformat": 4,
 "nbformat_minor": 5
}
