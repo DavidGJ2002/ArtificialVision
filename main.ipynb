{
 "cells": [
  {
   "cell_type": "code",
   "execution_count": 3,
   "id": "2967092c-66ca-44d9-bd96-106f7b5f9500",
   "metadata": {},
   "outputs": [
    {
     "ename": "ModuleNotFoundError",
     "evalue": "No module named 'nbimporter'",
     "output_type": "error",
     "traceback": [
      "\u001b[1;31m---------------------------------------------------------------------------\u001b[0m",
      "\u001b[1;31mModuleNotFoundError\u001b[0m                       Traceback (most recent call last)",
      "\u001b[1;32mc:\\Users\\DAVID\\Documents\\6toSemestre\\VisiónArtificial\\ArtificialVision\\main.ipynb Cell 1\u001b[0m line \u001b[0;36m2\n\u001b[0;32m      <a href='vscode-notebook-cell:/c%3A/Users/DAVID/Documents/6toSemestre/Visi%C3%B3nArtificial/ArtificialVision/main.ipynb#W0sZmlsZQ%3D%3D?line=0'>1</a>\u001b[0m \u001b[39mfrom\u001b[39;00m \u001b[39mPIL\u001b[39;00m \u001b[39mimport\u001b[39;00m Image\n\u001b[1;32m----> <a href='vscode-notebook-cell:/c%3A/Users/DAVID/Documents/6toSemestre/Visi%C3%B3nArtificial/ArtificialVision/main.ipynb#W0sZmlsZQ%3D%3D?line=1'>2</a>\u001b[0m \u001b[39mimport\u001b[39;00m \u001b[39mnbimporter\u001b[39;00m\n\u001b[0;32m      <a href='vscode-notebook-cell:/c%3A/Users/DAVID/Documents/6toSemestre/Visi%C3%B3nArtificial/ArtificialVision/main.ipynb#W0sZmlsZQ%3D%3D?line=2'>3</a>\u001b[0m \u001b[39mimport\u001b[39;00m \u001b[39mmatplotlib\u001b[39;00m\u001b[39m.\u001b[39;00m\u001b[39mpyplot\u001b[39;00m \u001b[39mas\u001b[39;00m \u001b[39mplt\u001b[39;00m\n\u001b[0;32m      <a href='vscode-notebook-cell:/c%3A/Users/DAVID/Documents/6toSemestre/Visi%C3%B3nArtificial/ArtificialVision/main.ipynb#W0sZmlsZQ%3D%3D?line=3'>4</a>\u001b[0m \u001b[39mfrom\u001b[39;00m \u001b[39msegmentacion\u001b[39;00m\u001b[39m.\u001b[39;00m\u001b[39motsu\u001b[39;00m \u001b[39mimport\u001b[39;00m otsu_thresholding\n",
      "\u001b[1;31mModuleNotFoundError\u001b[0m: No module named 'nbimporter'"
     ]
    }
   ],
   "source": [
    "from PIL import Image\n",
    "import nbimporter\n",
    "import matplotlib.pyplot as plt\n",
    "from segmentacion.otsu import otsu_thresholding\n",
    "from segmentacion.global_ import global_thresholding  # Corrección aquí\n",
    "from segmentacion.bernsen import bernsen_thresholding\n",
    "from utilidades.utilidades_imagenes import cargar_imagen\n",
    "from bordes.canny import filtro_canny\n",
    "\n",
    "# Ruta de la imagen\n",
    "image_path = \"img1.png\"\n",
    "\n",
    "# Cargar la imagen\n",
    "image_np = cargar_imagen(image_path)\n",
    "\n",
    "# Aplicar las técnicas de umbralización\n",
    "global_thresh_result = global_thresholding(image_np)\n",
    "otsu_thresh_result = otsu_thresholding(image_np)\n",
    "bernsen_thresh_result = bernsen_thresholding(image_np)\n",
    "canny_result = filtro_canny(image_np)\n",
    "\n",
    "# Mostrar los resultados junto con la imagen original\n",
    "fig, axes = plt.subplots(1, 4, figsize=(20, 5))\n",
    "\n",
    "axes[0].imshow(image_np, cmap=\"gray\")\n",
    "axes[0].set_title(\"Imagen Original\")\n",
    "axes[0].axis('off')\n",
    "\n",
    "axes[1].imshow(global_thresh_result, cmap=\"gray\")\n",
    "axes[1].set_title(\"Umbralización Global\")\n",
    "axes[1].axis('off')\n",
    "\n",
    "axes[2].imshow(otsu_thresh_result, cmap=\"gray\")\n",
    "axes[2].set_title(\"Umbralización Otsu\")\n",
    "axes[2].axis('off')\n",
    "\n",
    "axes[3].imshow(bernsen_thresh_result, cmap=\"gray\")\n",
    "axes[3].set_title(\"Umbralización Bernsen\")\n",
    "axes[3].axis('off')\n",
    "\n",
    "axes[3].imshow(canny_result, cmap=\"gray\")\n",
    "axes[3].set_title(\"Deteccion de bordes\")\n",
    "axes[3].axis('off')\n",
    "\n",
    "plt.tight_layout()\n",
    "plt.show()"
   ]
  }
 ],
 "metadata": {
  "kernelspec": {
   "display_name": "Python 3 (ipykernel)",
   "language": "python",
   "name": "python3"
  },
  "language_info": {
   "codemirror_mode": {
    "name": "ipython",
    "version": 3
   },
   "file_extension": ".py",
   "mimetype": "text/x-python",
   "name": "python",
   "nbconvert_exporter": "python",
   "pygments_lexer": "ipython3",
   "version": "3.11.4"
  }
 },
 "nbformat": 4,
 "nbformat_minor": 5
}
